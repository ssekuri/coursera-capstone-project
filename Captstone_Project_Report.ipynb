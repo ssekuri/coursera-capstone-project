{
    "nbformat_minor": 1, 
    "cells": [
        {
            "source": "# 1. Introduction/Business Problem", 
            "cell_type": "markdown", 
            "metadata": {
                "collapsed": true
            }
        }, 
        {
            "source": "## Recommendation on starting Indian Restaurant in Toronto Neighborhoods", 
            "cell_type": "markdown", 
            "metadata": {}
        }, 
        {
            "source": "##### In 1998, an Indian restaurant 'Fusion of India' ventured into the United States of America market by opening its business in New York city. Though there was another couple of Indian restaurants that already existed nearby in the neighborhood, the business took off successfully due to popular demand of local customers and visitors across the country. Over years, their business expanded with presence in various key cities across the country. \n##### With its success story in USA, the restaurant wants to now explore opportunity for growth in different countries. To begin with the nearest neighboring country in North America, it obviously chose Canada for expansion and identified Toronto as its key city. Since this is their first time in the Toronto neighborhood, they are unsure about its market and competition of similar restaurants in area.\n##### Based on lesson learnt with USA market, the restaurant is looking for a recommendation system on a neighborhood where there are good number of venues with respect to shopping, coffee places, fun activities, etc that doesn't include more than couple of Indian food places. ", 
            "cell_type": "markdown", 
            "metadata": {}
        }, 
        {
            "source": "# 2. Data Requirements", 
            "cell_type": "markdown", 
            "metadata": {}
        }, 
        {
            "source": "#### Following approach would be used to gather data and provide a recommendation system for the restaurant - \n##### 1. Gather all Toronto neighborhood data with their geographical information like latitude and longitude.\nThis would be a two step approach where first step will be gathering postal codes from a wikipedia page and second step to gather the geographical information\n\nStep 1) For the Toronto neighborhood data, a Wikipedia page available at url 'https://en.wikipedia.org/wiki/List_of_postal_codes_of_Canada:_M' will be used that has all the information needed to explore. The Wikipedia page containing data has to be scraped, wrangled, cleansed and then read into a pandas dataframe so that it is in a structured format specified below. The Postal Code has to be unique with all related Neigborhoods concatenated against it. Any Borough's that are not assigned will be ignored and Neighborhoods that are not assigned will get its value from Borough.\n\nData Format:\nPostal Code, Borough, Neighborhood\n\nStep 2) Geographical coordinates of each postal code is available as CSV file at url 'http://cocl.us/Geospatial_data'. These coordinates data have to be read and merged with data specified in Step 1 so that the new format would like below:\n\nNew Data Format with geographical coordinates:\nPostal Code, Borough, Neighborhood, Latitude, Longitude\n\n##### 2. For each neighborhood, use Foursquare location data to gather all its different venues and categories\nFoursquare location data would be collected in the following format against each neighborhood:\nNeighborhood,\nNeighborhood Latitude, \nNeighborhood Longitude, \nVenue, \nVenue Latitude, \nVenue Longitude, \nVenue Category\n\nUsing above data, the recommendation system must evaluate the maximum venues in a given neighborhood that doesn't contain more than 2 indian eateries. Cluster the Neighborhoods and to evaluate results based on Top 5 neighborhoods picked randomly or manually.\n\nAbout Foursquare: https://foursquare.com\nFoursquare is a technology company that uses location intelligence to build meaningful consumer experiences and business solutions.\nCommunity: More than 50 million people use Foursquare each month. \nPlatform: More than 105 million venues mapped around the world.\nEmployees: Nearly 250 people at their New York headquarters and other places.", 
            "cell_type": "markdown", 
            "metadata": {}
        }, 
        {
            "source": "# 3. Main Analysis", 
            "cell_type": "markdown", 
            "metadata": {}
        }, 
        {
            "source": "### The Recommendation system for an Indian Restaurant in Toronto neighborhoods is split into multiple steps for narrowing down\n#### Step 1. Prepare Data containing all Postal Codes and Neighborhoods with their geographical location details like Latitude and Longitude\nWikipedia and Geospatial data as specified in data requirements above is used to build a data structure for analysis. \n\n#### Step 2. Plot the neighborhoods in a map for a peek at visual density and Identify a borough with most neighborhoods to be picked for analysis\nThe gathered neighborhood data is then used to map using folium library for a visual representation of how clustered the neighborhood looks. \nCount of Neighborhoods by Borough is taken to understand the largest borough for our analysis. This can be repeated if needed using a different borough based on our Customer's choice.\n\n#### Step 3. Analyze all Venues using Foursquare API of the identified Borough and categorize them. Get maximum venues in each Neighborhood for closing analysis\nThe Borough picked was North York and used to gather all the related Neighborhoods for passing it to Foursquare API and fetch different venues.\nNew data frame is assigned for the identified borough to isolate it and Plot it on a map to have a visual representation of the Borough neighborhoods.\nA function is created to call Foursquare API and fetch all venues for each neighborhood in  North York. It is collected against same data frame with help of additional venue related columns.", 
            "cell_type": "markdown", 
            "metadata": {}
        }, 
        {
            "source": "# 4. Results", 
            "cell_type": "markdown", 
            "metadata": {}
        }, 
        {
            "source": "#### 1. Using all the venues gathered for each neighborhood in North York, identified neighborhood(s) with maximum venues to analyze further\nWith the Borough having maximum neighborhoods, we are picking maximum venues using Foursquare API within the Borough North York. \nNeighborhoods 'Fairview,Henry Farm,Oriole' having maximum number of venues.\n#### 2. Checked if there are more than two Indian Restaurants\nCreated a spread of different venues by neighborhood and took a mean distribution across all venues. Picked the lowest mean 'Fairview,Henry Farm,Oriole' since it has highest spread without an Indian Restaurant.", 
            "cell_type": "markdown", 
            "metadata": {}
        }, 
        {
            "source": "# 5. Observation and Conclusion", 
            "cell_type": "markdown", 
            "metadata": {}
        }, 
        {
            "source": "##### Observation: \nThough the solution to the problem was to identify Top 5 neighborhoods for our analysis, with help of a function we were able to simplify the analysis in fetching every neighborhood of a given Borough for our analysis. \nIt was also observed that we can reuse the code for different boroughs and use it for future expansion within Toronto Neighborhood by the Indian Restaurant.\n##### Conclusion \nFairview, Henry Farm and Oriole are the recommended neighborhoods for starting the Indian Restaurant in Toronto.", 
            "cell_type": "markdown", 
            "metadata": {}
        }, 
        {
            "source": "", 
            "cell_type": "markdown", 
            "metadata": {}
        }
    ], 
    "metadata": {
        "kernelspec": {
            "display_name": "Python 3.5", 
            "name": "python3", 
            "language": "python"
        }, 
        "language_info": {
            "mimetype": "text/x-python", 
            "nbconvert_exporter": "python", 
            "version": "3.5.5", 
            "name": "python", 
            "file_extension": ".py", 
            "pygments_lexer": "ipython3", 
            "codemirror_mode": {
                "version": 3, 
                "name": "ipython"
            }
        }
    }, 
    "nbformat": 4
}