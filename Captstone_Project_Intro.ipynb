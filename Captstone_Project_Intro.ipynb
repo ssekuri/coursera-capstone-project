{
    "nbformat_minor": 1, 
    "cells": [
        {
            "source": "# 1. Introduction/Business Problem", 
            "cell_type": "markdown", 
            "metadata": {
                "collapsed": true
            }
        }, 
        {
            "source": "## Recommendation on starting Indian Restaurant in Toronto Neighborhoods", 
            "cell_type": "markdown", 
            "metadata": {}
        }, 
        {
            "source": "##### In 1998, an Indian restaurant 'Fusion of India' ventured into the United States of America market by opening its business in New York. Though there was another couple of Indian restaurants that already existed nearby in the neighborhood, the business took off successfully due to popular demand of local customers and visitors across the country. Over years, thire business expanded into various key cities across the country. \n##### With its success story in USA, the restaurant wants to explore opportunity for growth in different countries. To begin with the nearest neighboring country, it chose Canada for expansion and identified Toronto as its key city. Since this is their first time in the Toronto neighborhood, they are unsure about its market and competition of similar restaurants in area.\n##### Based on lesson learnt with USA market, the restaurant is looking for a recommendation system on a neighborhood where there are good number of venues with respect to shopping, coffee places, fun activities, etc that doesn't include more than couple of Indian food places. ", 
            "cell_type": "markdown", 
            "metadata": {}
        }, 
        {
            "source": "# 2. Data Requirements", 
            "cell_type": "markdown", 
            "metadata": {}
        }, 
        {
            "source": "## Recommendation", 
            "cell_type": "markdown", 
            "metadata": {}
        }, 
        {
            "source": "#####", 
            "cell_type": "markdown", 
            "metadata": {}
        }
    ], 
    "metadata": {
        "kernelspec": {
            "display_name": "Python 3.5", 
            "name": "python3", 
            "language": "python"
        }, 
        "language_info": {
            "mimetype": "text/x-python", 
            "nbconvert_exporter": "python", 
            "version": "3.5.5", 
            "name": "python", 
            "file_extension": ".py", 
            "pygments_lexer": "ipython3", 
            "codemirror_mode": {
                "version": 3, 
                "name": "ipython"
            }
        }
    }, 
    "nbformat": 4
}